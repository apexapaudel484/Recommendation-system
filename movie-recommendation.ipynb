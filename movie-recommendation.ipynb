{
 "cells": [
  {
   "cell_type": "code",
   "execution_count": 1,
   "id": "f7d50549",
   "metadata": {
    "_cell_guid": "b1076dfc-b9ad-4769-8c92-a6c4dae69d19",
    "_uuid": "8f2839f25d086af736a60e9eeb907d3b93b6e0e5",
    "execution": {
     "iopub.execute_input": "2023-10-25T07:04:45.821692Z",
     "iopub.status.busy": "2023-10-25T07:04:45.820296Z",
     "iopub.status.idle": "2023-10-25T07:04:46.362233Z",
     "shell.execute_reply": "2023-10-25T07:04:46.361040Z"
    },
    "papermill": {
     "duration": 0.563733,
     "end_time": "2023-10-25T07:04:46.365897",
     "exception": false,
     "start_time": "2023-10-25T07:04:45.802164",
     "status": "completed"
    },
    "tags": []
   },
   "outputs": [
    {
     "name": "stdout",
     "output_type": "stream",
     "text": [
      "/kaggle/input/amazon-movie-ratings/Amazon.csv\n",
      "/kaggle/input/movies-recommendations-by-association-rules/__results__.html\n",
      "/kaggle/input/movies-recommendations-by-association-rules/__notebook__.ipynb\n",
      "/kaggle/input/movies-recommendations-by-association-rules/__output__.json\n",
      "/kaggle/input/movies-recommendations-by-association-rules/custom.css\n",
      "/kaggle/input/movies-recommendations-by-association-rules/__results___files/__results___67_0.png\n",
      "/kaggle/input/movies-recommendations-by-association-rules/__results___files/__results___79_0.png\n",
      "/kaggle/input/movies-recommendations-by-association-rules/__results___files/__results___66_0.png\n",
      "/kaggle/input/movies-recommendations-by-association-rules/__results___files/__results___75_0.png\n",
      "/kaggle/input/movies-recommendations-by-association-rules/ml-latest-small/movies.csv\n",
      "/kaggle/input/movies-recommendations-by-association-rules/ml-latest-small/ratings.csv\n",
      "/kaggle/input/movies-recommendations-by-association-rules/ml-latest-small/README.txt\n",
      "/kaggle/input/movies-recommendations-by-association-rules/ml-latest-small/tags.csv\n",
      "/kaggle/input/movies-recommendations-by-association-rules/ml-latest-small/links.csv\n",
      "/kaggle/input/imdb-dataset-of-50k-movie-reviews/IMDB Dataset.csv\n",
      "/kaggle/input/imdb-movie-ratings-sentiment-analysis/movie.csv\n"
     ]
    }
   ],
   "source": [
    "# This Python 3 environment comes with many helpful analytics libraries installed\n",
    "# It is defined by the kaggle/python Docker image: https://github.com/kaggle/docker-python\n",
    "# For example, here's several helpful packages to load\n",
    "\n",
    "import numpy as np # linear algebra\n",
    "import pandas as pd # data processing, CSV file I/O (e.g. pd.read_csv)\n",
    "\n",
    "# Input data files are available in the read-only \"../input/\" directory\n",
    "# For example, running this (by clicking run or pressing Shift+Enter) will list all files under the input directory\n",
    "\n",
    "import os\n",
    "for dirname, _, filenames in os.walk('/kaggle/input'):\n",
    "    for filename in filenames:\n",
    "        print(os.path.join(dirname, filename))\n",
    "\n",
    "# You can write up to 20GB to the current directory (/kaggle/working/) that gets preserved as output when you create a version using \"Save & Run All\" \n",
    "# You can also write temporary files to /kaggle/temp/, but they won't be saved outside of the current session"
   ]
  },
  {
   "cell_type": "markdown",
   "id": "1e037ac8",
   "metadata": {
    "papermill": {
     "duration": 0.015067,
     "end_time": "2023-10-25T07:04:46.396652",
     "exception": false,
     "start_time": "2023-10-25T07:04:46.381585",
     "status": "completed"
    },
    "tags": []
   },
   "source": [
    "Importing data "
   ]
  },
  {
   "cell_type": "code",
   "execution_count": 2,
   "id": "a98bcae1",
   "metadata": {
    "execution": {
     "iopub.execute_input": "2023-10-25T07:04:46.432390Z",
     "iopub.status.busy": "2023-10-25T07:04:46.430826Z",
     "iopub.status.idle": "2023-10-25T07:04:48.078002Z",
     "shell.execute_reply": "2023-10-25T07:04:48.076644Z"
    },
    "papermill": {
     "duration": 1.668867,
     "end_time": "2023-10-25T07:04:48.081178",
     "exception": false,
     "start_time": "2023-10-25T07:04:46.412311",
     "status": "completed"
    },
    "tags": []
   },
   "outputs": [],
   "source": [
    "review= pd.read_csv('/kaggle/input/imdb-dataset-of-50k-movie-reviews/IMDB Dataset.csv')"
   ]
  },
  {
   "cell_type": "code",
   "execution_count": 3,
   "id": "bbb6a26f",
   "metadata": {
    "execution": {
     "iopub.execute_input": "2023-10-25T07:04:48.115052Z",
     "iopub.status.busy": "2023-10-25T07:04:48.114575Z",
     "iopub.status.idle": "2023-10-25T07:04:48.142127Z",
     "shell.execute_reply": "2023-10-25T07:04:48.140618Z"
    },
    "papermill": {
     "duration": 0.048502,
     "end_time": "2023-10-25T07:04:48.145316",
     "exception": false,
     "start_time": "2023-10-25T07:04:48.096814",
     "status": "completed"
    },
    "tags": []
   },
   "outputs": [
    {
     "data": {
      "text/html": [
       "<div>\n",
       "<style scoped>\n",
       "    .dataframe tbody tr th:only-of-type {\n",
       "        vertical-align: middle;\n",
       "    }\n",
       "\n",
       "    .dataframe tbody tr th {\n",
       "        vertical-align: top;\n",
       "    }\n",
       "\n",
       "    .dataframe thead th {\n",
       "        text-align: right;\n",
       "    }\n",
       "</style>\n",
       "<table border=\"1\" class=\"dataframe\">\n",
       "  <thead>\n",
       "    <tr style=\"text-align: right;\">\n",
       "      <th></th>\n",
       "      <th>review</th>\n",
       "      <th>sentiment</th>\n",
       "    </tr>\n",
       "  </thead>\n",
       "  <tbody>\n",
       "    <tr>\n",
       "      <th>0</th>\n",
       "      <td>One of the other reviewers has mentioned that ...</td>\n",
       "      <td>positive</td>\n",
       "    </tr>\n",
       "    <tr>\n",
       "      <th>1</th>\n",
       "      <td>A wonderful little production. &lt;br /&gt;&lt;br /&gt;The...</td>\n",
       "      <td>positive</td>\n",
       "    </tr>\n",
       "    <tr>\n",
       "      <th>2</th>\n",
       "      <td>I thought this was a wonderful way to spend ti...</td>\n",
       "      <td>positive</td>\n",
       "    </tr>\n",
       "    <tr>\n",
       "      <th>3</th>\n",
       "      <td>Basically there's a family where a little boy ...</td>\n",
       "      <td>negative</td>\n",
       "    </tr>\n",
       "    <tr>\n",
       "      <th>4</th>\n",
       "      <td>Petter Mattei's \"Love in the Time of Money\" is...</td>\n",
       "      <td>positive</td>\n",
       "    </tr>\n",
       "  </tbody>\n",
       "</table>\n",
       "</div>"
      ],
      "text/plain": [
       "                                              review sentiment\n",
       "0  One of the other reviewers has mentioned that ...  positive\n",
       "1  A wonderful little production. <br /><br />The...  positive\n",
       "2  I thought this was a wonderful way to spend ti...  positive\n",
       "3  Basically there's a family where a little boy ...  negative\n",
       "4  Petter Mattei's \"Love in the Time of Money\" is...  positive"
      ]
     },
     "execution_count": 3,
     "metadata": {},
     "output_type": "execute_result"
    }
   ],
   "source": [
    "review.head()"
   ]
  },
  {
   "cell_type": "code",
   "execution_count": 4,
   "id": "e4c53e17",
   "metadata": {
    "execution": {
     "iopub.execute_input": "2023-10-25T07:04:48.179556Z",
     "iopub.status.busy": "2023-10-25T07:04:48.179044Z",
     "iopub.status.idle": "2023-10-25T07:04:48.277693Z",
     "shell.execute_reply": "2023-10-25T07:04:48.276683Z"
    },
    "papermill": {
     "duration": 0.119344,
     "end_time": "2023-10-25T07:04:48.280657",
     "exception": false,
     "start_time": "2023-10-25T07:04:48.161313",
     "status": "completed"
    },
    "tags": []
   },
   "outputs": [],
   "source": [
    "rating=pd.read_csv('/kaggle/input/movies-recommendations-by-association-rules/ml-latest-small/ratings.csv')"
   ]
  },
  {
   "cell_type": "code",
   "execution_count": 5,
   "id": "15df4123",
   "metadata": {
    "execution": {
     "iopub.execute_input": "2023-10-25T07:04:48.316387Z",
     "iopub.status.busy": "2023-10-25T07:04:48.315504Z",
     "iopub.status.idle": "2023-10-25T07:04:48.331527Z",
     "shell.execute_reply": "2023-10-25T07:04:48.330020Z"
    },
    "papermill": {
     "duration": 0.03721,
     "end_time": "2023-10-25T07:04:48.334647",
     "exception": false,
     "start_time": "2023-10-25T07:04:48.297437",
     "status": "completed"
    },
    "tags": []
   },
   "outputs": [
    {
     "data": {
      "text/html": [
       "<div>\n",
       "<style scoped>\n",
       "    .dataframe tbody tr th:only-of-type {\n",
       "        vertical-align: middle;\n",
       "    }\n",
       "\n",
       "    .dataframe tbody tr th {\n",
       "        vertical-align: top;\n",
       "    }\n",
       "\n",
       "    .dataframe thead th {\n",
       "        text-align: right;\n",
       "    }\n",
       "</style>\n",
       "<table border=\"1\" class=\"dataframe\">\n",
       "  <thead>\n",
       "    <tr style=\"text-align: right;\">\n",
       "      <th></th>\n",
       "      <th>userId</th>\n",
       "      <th>movieId</th>\n",
       "      <th>rating</th>\n",
       "      <th>timestamp</th>\n",
       "    </tr>\n",
       "  </thead>\n",
       "  <tbody>\n",
       "    <tr>\n",
       "      <th>0</th>\n",
       "      <td>1</td>\n",
       "      <td>1</td>\n",
       "      <td>4.0</td>\n",
       "      <td>964982703</td>\n",
       "    </tr>\n",
       "    <tr>\n",
       "      <th>1</th>\n",
       "      <td>1</td>\n",
       "      <td>3</td>\n",
       "      <td>4.0</td>\n",
       "      <td>964981247</td>\n",
       "    </tr>\n",
       "    <tr>\n",
       "      <th>2</th>\n",
       "      <td>1</td>\n",
       "      <td>6</td>\n",
       "      <td>4.0</td>\n",
       "      <td>964982224</td>\n",
       "    </tr>\n",
       "    <tr>\n",
       "      <th>3</th>\n",
       "      <td>1</td>\n",
       "      <td>47</td>\n",
       "      <td>5.0</td>\n",
       "      <td>964983815</td>\n",
       "    </tr>\n",
       "    <tr>\n",
       "      <th>4</th>\n",
       "      <td>1</td>\n",
       "      <td>50</td>\n",
       "      <td>5.0</td>\n",
       "      <td>964982931</td>\n",
       "    </tr>\n",
       "  </tbody>\n",
       "</table>\n",
       "</div>"
      ],
      "text/plain": [
       "   userId  movieId  rating  timestamp\n",
       "0       1        1     4.0  964982703\n",
       "1       1        3     4.0  964981247\n",
       "2       1        6     4.0  964982224\n",
       "3       1       47     5.0  964983815\n",
       "4       1       50     5.0  964982931"
      ]
     },
     "execution_count": 5,
     "metadata": {},
     "output_type": "execute_result"
    }
   ],
   "source": [
    "rating.head()"
   ]
  },
  {
   "cell_type": "markdown",
   "id": "baf4d20a",
   "metadata": {
    "papermill": {
     "duration": 0.016081,
     "end_time": "2023-10-25T07:04:48.366959",
     "exception": false,
     "start_time": "2023-10-25T07:04:48.350878",
     "status": "completed"
    },
    "tags": []
   },
   "source": [
    "**Importing movies data.**"
   ]
  },
  {
   "cell_type": "code",
   "execution_count": 6,
   "id": "9f6bc35b",
   "metadata": {
    "execution": {
     "iopub.execute_input": "2023-10-25T07:04:48.401243Z",
     "iopub.status.busy": "2023-10-25T07:04:48.400821Z",
     "iopub.status.idle": "2023-10-25T07:04:48.442828Z",
     "shell.execute_reply": "2023-10-25T07:04:48.441249Z"
    },
    "papermill": {
     "duration": 0.063407,
     "end_time": "2023-10-25T07:04:48.446158",
     "exception": false,
     "start_time": "2023-10-25T07:04:48.382751",
     "status": "completed"
    },
    "tags": []
   },
   "outputs": [],
   "source": [
    "movies = pd.read_csv('/kaggle/input/movies-recommendations-by-association-rules/ml-latest-small/movies.csv')"
   ]
  },
  {
   "cell_type": "code",
   "execution_count": 7,
   "id": "7d9957b0",
   "metadata": {
    "execution": {
     "iopub.execute_input": "2023-10-25T07:04:48.481283Z",
     "iopub.status.busy": "2023-10-25T07:04:48.480763Z",
     "iopub.status.idle": "2023-10-25T07:04:48.494026Z",
     "shell.execute_reply": "2023-10-25T07:04:48.492198Z"
    },
    "papermill": {
     "duration": 0.034468,
     "end_time": "2023-10-25T07:04:48.496718",
     "exception": false,
     "start_time": "2023-10-25T07:04:48.462250",
     "status": "completed"
    },
    "tags": []
   },
   "outputs": [
    {
     "data": {
      "text/html": [
       "<div>\n",
       "<style scoped>\n",
       "    .dataframe tbody tr th:only-of-type {\n",
       "        vertical-align: middle;\n",
       "    }\n",
       "\n",
       "    .dataframe tbody tr th {\n",
       "        vertical-align: top;\n",
       "    }\n",
       "\n",
       "    .dataframe thead th {\n",
       "        text-align: right;\n",
       "    }\n",
       "</style>\n",
       "<table border=\"1\" class=\"dataframe\">\n",
       "  <thead>\n",
       "    <tr style=\"text-align: right;\">\n",
       "      <th></th>\n",
       "      <th>movieId</th>\n",
       "      <th>title</th>\n",
       "      <th>genres</th>\n",
       "    </tr>\n",
       "  </thead>\n",
       "  <tbody>\n",
       "    <tr>\n",
       "      <th>0</th>\n",
       "      <td>1</td>\n",
       "      <td>Toy Story (1995)</td>\n",
       "      <td>Adventure|Animation|Children|Comedy|Fantasy</td>\n",
       "    </tr>\n",
       "    <tr>\n",
       "      <th>1</th>\n",
       "      <td>2</td>\n",
       "      <td>Jumanji (1995)</td>\n",
       "      <td>Adventure|Children|Fantasy</td>\n",
       "    </tr>\n",
       "    <tr>\n",
       "      <th>2</th>\n",
       "      <td>3</td>\n",
       "      <td>Grumpier Old Men (1995)</td>\n",
       "      <td>Comedy|Romance</td>\n",
       "    </tr>\n",
       "    <tr>\n",
       "      <th>3</th>\n",
       "      <td>4</td>\n",
       "      <td>Waiting to Exhale (1995)</td>\n",
       "      <td>Comedy|Drama|Romance</td>\n",
       "    </tr>\n",
       "    <tr>\n",
       "      <th>4</th>\n",
       "      <td>5</td>\n",
       "      <td>Father of the Bride Part II (1995)</td>\n",
       "      <td>Comedy</td>\n",
       "    </tr>\n",
       "  </tbody>\n",
       "</table>\n",
       "</div>"
      ],
      "text/plain": [
       "   movieId                               title  \\\n",
       "0        1                    Toy Story (1995)   \n",
       "1        2                      Jumanji (1995)   \n",
       "2        3             Grumpier Old Men (1995)   \n",
       "3        4            Waiting to Exhale (1995)   \n",
       "4        5  Father of the Bride Part II (1995)   \n",
       "\n",
       "                                        genres  \n",
       "0  Adventure|Animation|Children|Comedy|Fantasy  \n",
       "1                   Adventure|Children|Fantasy  \n",
       "2                               Comedy|Romance  \n",
       "3                         Comedy|Drama|Romance  \n",
       "4                                       Comedy  "
      ]
     },
     "execution_count": 7,
     "metadata": {},
     "output_type": "execute_result"
    }
   ],
   "source": [
    "movies.head()"
   ]
  },
  {
   "cell_type": "markdown",
   "id": "d4811c83",
   "metadata": {
    "papermill": {
     "duration": 0.015623,
     "end_time": "2023-10-25T07:04:48.528617",
     "exception": false,
     "start_time": "2023-10-25T07:04:48.512994",
     "status": "completed"
    },
    "tags": []
   },
   "source": [
    "**Importing ratings of those movies**"
   ]
  },
  {
   "cell_type": "code",
   "execution_count": 8,
   "id": "6192aa99",
   "metadata": {
    "execution": {
     "iopub.execute_input": "2023-10-25T07:04:48.562606Z",
     "iopub.status.busy": "2023-10-25T07:04:48.562140Z",
     "iopub.status.idle": "2023-10-25T07:04:48.611602Z",
     "shell.execute_reply": "2023-10-25T07:04:48.610448Z"
    },
    "papermill": {
     "duration": 0.069419,
     "end_time": "2023-10-25T07:04:48.614003",
     "exception": false,
     "start_time": "2023-10-25T07:04:48.544584",
     "status": "completed"
    },
    "tags": []
   },
   "outputs": [
    {
     "data": {
      "text/html": [
       "<div>\n",
       "<style scoped>\n",
       "    .dataframe tbody tr th:only-of-type {\n",
       "        vertical-align: middle;\n",
       "    }\n",
       "\n",
       "    .dataframe tbody tr th {\n",
       "        vertical-align: top;\n",
       "    }\n",
       "\n",
       "    .dataframe thead th {\n",
       "        text-align: right;\n",
       "    }\n",
       "</style>\n",
       "<table border=\"1\" class=\"dataframe\">\n",
       "  <thead>\n",
       "    <tr style=\"text-align: right;\">\n",
       "      <th></th>\n",
       "      <th>userId</th>\n",
       "      <th>movieId</th>\n",
       "      <th>rating</th>\n",
       "      <th>timestamp</th>\n",
       "    </tr>\n",
       "  </thead>\n",
       "  <tbody>\n",
       "    <tr>\n",
       "      <th>count</th>\n",
       "      <td>100836.000000</td>\n",
       "      <td>100836.000000</td>\n",
       "      <td>100836.000000</td>\n",
       "      <td>1.008360e+05</td>\n",
       "    </tr>\n",
       "    <tr>\n",
       "      <th>mean</th>\n",
       "      <td>326.127564</td>\n",
       "      <td>19435.295718</td>\n",
       "      <td>3.501557</td>\n",
       "      <td>1.205946e+09</td>\n",
       "    </tr>\n",
       "    <tr>\n",
       "      <th>std</th>\n",
       "      <td>182.618491</td>\n",
       "      <td>35530.987199</td>\n",
       "      <td>1.042529</td>\n",
       "      <td>2.162610e+08</td>\n",
       "    </tr>\n",
       "    <tr>\n",
       "      <th>min</th>\n",
       "      <td>1.000000</td>\n",
       "      <td>1.000000</td>\n",
       "      <td>0.500000</td>\n",
       "      <td>8.281246e+08</td>\n",
       "    </tr>\n",
       "    <tr>\n",
       "      <th>25%</th>\n",
       "      <td>177.000000</td>\n",
       "      <td>1199.000000</td>\n",
       "      <td>3.000000</td>\n",
       "      <td>1.019124e+09</td>\n",
       "    </tr>\n",
       "    <tr>\n",
       "      <th>50%</th>\n",
       "      <td>325.000000</td>\n",
       "      <td>2991.000000</td>\n",
       "      <td>3.500000</td>\n",
       "      <td>1.186087e+09</td>\n",
       "    </tr>\n",
       "    <tr>\n",
       "      <th>75%</th>\n",
       "      <td>477.000000</td>\n",
       "      <td>8122.000000</td>\n",
       "      <td>4.000000</td>\n",
       "      <td>1.435994e+09</td>\n",
       "    </tr>\n",
       "    <tr>\n",
       "      <th>max</th>\n",
       "      <td>610.000000</td>\n",
       "      <td>193609.000000</td>\n",
       "      <td>5.000000</td>\n",
       "      <td>1.537799e+09</td>\n",
       "    </tr>\n",
       "  </tbody>\n",
       "</table>\n",
       "</div>"
      ],
      "text/plain": [
       "              userId        movieId         rating     timestamp\n",
       "count  100836.000000  100836.000000  100836.000000  1.008360e+05\n",
       "mean      326.127564   19435.295718       3.501557  1.205946e+09\n",
       "std       182.618491   35530.987199       1.042529  2.162610e+08\n",
       "min         1.000000       1.000000       0.500000  8.281246e+08\n",
       "25%       177.000000    1199.000000       3.000000  1.019124e+09\n",
       "50%       325.000000    2991.000000       3.500000  1.186087e+09\n",
       "75%       477.000000    8122.000000       4.000000  1.435994e+09\n",
       "max       610.000000  193609.000000       5.000000  1.537799e+09"
      ]
     },
     "execution_count": 8,
     "metadata": {},
     "output_type": "execute_result"
    }
   ],
   "source": [
    "rating.describe()"
   ]
  },
  {
   "cell_type": "markdown",
   "id": "a2d7ee44",
   "metadata": {
    "papermill": {
     "duration": 0.01613,
     "end_time": "2023-10-25T07:04:48.647159",
     "exception": false,
     "start_time": "2023-10-25T07:04:48.631029",
     "status": "completed"
    },
    "tags": []
   },
   "source": [
    "**Merging movies and it's rating on basis of movie id.**"
   ]
  },
  {
   "cell_type": "code",
   "execution_count": 9,
   "id": "9fa22e33",
   "metadata": {
    "execution": {
     "iopub.execute_input": "2023-10-25T07:04:48.784606Z",
     "iopub.status.busy": "2023-10-25T07:04:48.783689Z",
     "iopub.status.idle": "2023-10-25T07:04:48.839719Z",
     "shell.execute_reply": "2023-10-25T07:04:48.838458Z"
    },
    "papermill": {
     "duration": 0.077486,
     "end_time": "2023-10-25T07:04:48.842536",
     "exception": false,
     "start_time": "2023-10-25T07:04:48.765050",
     "status": "completed"
    },
    "tags": []
   },
   "outputs": [
    {
     "data": {
      "text/html": [
       "<div>\n",
       "<style scoped>\n",
       "    .dataframe tbody tr th:only-of-type {\n",
       "        vertical-align: middle;\n",
       "    }\n",
       "\n",
       "    .dataframe tbody tr th {\n",
       "        vertical-align: top;\n",
       "    }\n",
       "\n",
       "    .dataframe thead th {\n",
       "        text-align: right;\n",
       "    }\n",
       "</style>\n",
       "<table border=\"1\" class=\"dataframe\">\n",
       "  <thead>\n",
       "    <tr style=\"text-align: right;\">\n",
       "      <th></th>\n",
       "      <th>movieId</th>\n",
       "      <th>title</th>\n",
       "      <th>genres</th>\n",
       "      <th>userId</th>\n",
       "      <th>rating</th>\n",
       "      <th>timestamp</th>\n",
       "    </tr>\n",
       "  </thead>\n",
       "  <tbody>\n",
       "    <tr>\n",
       "      <th>100831</th>\n",
       "      <td>193581</td>\n",
       "      <td>Black Butler: Book of the Atlantic (2017)</td>\n",
       "      <td>Action|Animation|Comedy|Fantasy</td>\n",
       "      <td>184</td>\n",
       "      <td>4.0</td>\n",
       "      <td>1537109082</td>\n",
       "    </tr>\n",
       "    <tr>\n",
       "      <th>100832</th>\n",
       "      <td>193583</td>\n",
       "      <td>No Game No Life: Zero (2017)</td>\n",
       "      <td>Animation|Comedy|Fantasy</td>\n",
       "      <td>184</td>\n",
       "      <td>3.5</td>\n",
       "      <td>1537109545</td>\n",
       "    </tr>\n",
       "    <tr>\n",
       "      <th>100833</th>\n",
       "      <td>193585</td>\n",
       "      <td>Flint (2017)</td>\n",
       "      <td>Drama</td>\n",
       "      <td>184</td>\n",
       "      <td>3.5</td>\n",
       "      <td>1537109805</td>\n",
       "    </tr>\n",
       "    <tr>\n",
       "      <th>100834</th>\n",
       "      <td>193587</td>\n",
       "      <td>Bungo Stray Dogs: Dead Apple (2018)</td>\n",
       "      <td>Action|Animation</td>\n",
       "      <td>184</td>\n",
       "      <td>3.5</td>\n",
       "      <td>1537110021</td>\n",
       "    </tr>\n",
       "    <tr>\n",
       "      <th>100835</th>\n",
       "      <td>193609</td>\n",
       "      <td>Andrew Dice Clay: Dice Rules (1991)</td>\n",
       "      <td>Comedy</td>\n",
       "      <td>331</td>\n",
       "      <td>4.0</td>\n",
       "      <td>1537157606</td>\n",
       "    </tr>\n",
       "  </tbody>\n",
       "</table>\n",
       "</div>"
      ],
      "text/plain": [
       "        movieId                                      title  \\\n",
       "100831   193581  Black Butler: Book of the Atlantic (2017)   \n",
       "100832   193583               No Game No Life: Zero (2017)   \n",
       "100833   193585                               Flint (2017)   \n",
       "100834   193587        Bungo Stray Dogs: Dead Apple (2018)   \n",
       "100835   193609        Andrew Dice Clay: Dice Rules (1991)   \n",
       "\n",
       "                                 genres  userId  rating   timestamp  \n",
       "100831  Action|Animation|Comedy|Fantasy     184     4.0  1537109082  \n",
       "100832         Animation|Comedy|Fantasy     184     3.5  1537109545  \n",
       "100833                            Drama     184     3.5  1537109805  \n",
       "100834                 Action|Animation     184     3.5  1537110021  \n",
       "100835                           Comedy     331     4.0  1537157606  "
      ]
     },
     "execution_count": 9,
     "metadata": {},
     "output_type": "execute_result"
    }
   ],
   "source": [
    "merged= pd.merge(movies , rating , on='movieId')\n",
    "merged.tail()\n"
   ]
  },
  {
   "cell_type": "markdown",
   "id": "d3c562c6",
   "metadata": {
    "papermill": {
     "duration": 0.016353,
     "end_time": "2023-10-25T07:04:48.875884",
     "exception": false,
     "start_time": "2023-10-25T07:04:48.859531",
     "status": "completed"
    },
    "tags": []
   },
   "source": [
    "**seeing the rows and columns in the dataset.**"
   ]
  },
  {
   "cell_type": "code",
   "execution_count": 10,
   "id": "85cd772f",
   "metadata": {
    "execution": {
     "iopub.execute_input": "2023-10-25T07:04:48.913922Z",
     "iopub.status.busy": "2023-10-25T07:04:48.913443Z",
     "iopub.status.idle": "2023-10-25T07:04:48.921736Z",
     "shell.execute_reply": "2023-10-25T07:04:48.920404Z"
    },
    "papermill": {
     "duration": 0.029341,
     "end_time": "2023-10-25T07:04:48.924281",
     "exception": false,
     "start_time": "2023-10-25T07:04:48.894940",
     "status": "completed"
    },
    "tags": []
   },
   "outputs": [
    {
     "data": {
      "text/plain": [
       "(100836, 6)"
      ]
     },
     "execution_count": 10,
     "metadata": {},
     "output_type": "execute_result"
    }
   ],
   "source": [
    "merged.shape"
   ]
  },
  {
   "cell_type": "markdown",
   "id": "f471fcfb",
   "metadata": {
    "papermill": {
     "duration": 0.016987,
     "end_time": "2023-10-25T07:04:48.959099",
     "exception": false,
     "start_time": "2023-10-25T07:04:48.942112",
     "status": "completed"
    },
    "tags": []
   },
   "source": [
    "**Changing timestamp into datetime format.**"
   ]
  },
  {
   "cell_type": "code",
   "execution_count": 11,
   "id": "9f310757",
   "metadata": {
    "execution": {
     "iopub.execute_input": "2023-10-25T07:04:48.996579Z",
     "iopub.status.busy": "2023-10-25T07:04:48.995506Z",
     "iopub.status.idle": "2023-10-25T07:04:49.087157Z",
     "shell.execute_reply": "2023-10-25T07:04:49.086213Z"
    },
    "papermill": {
     "duration": 0.113748,
     "end_time": "2023-10-25T07:04:49.090242",
     "exception": false,
     "start_time": "2023-10-25T07:04:48.976494",
     "status": "completed"
    },
    "tags": []
   },
   "outputs": [],
   "source": [
    "import datetime\n",
    "from datetime import datetime,date\n",
    "merged['datetime'] = pd.to_datetime(merged['timestamp'])"
   ]
  },
  {
   "cell_type": "code",
   "execution_count": 12,
   "id": "5401a79e",
   "metadata": {
    "execution": {
     "iopub.execute_input": "2023-10-25T07:04:49.126077Z",
     "iopub.status.busy": "2023-10-25T07:04:49.125653Z",
     "iopub.status.idle": "2023-10-25T07:04:49.133492Z",
     "shell.execute_reply": "2023-10-25T07:04:49.131662Z"
    },
    "papermill": {
     "duration": 0.028916,
     "end_time": "2023-10-25T07:04:49.136160",
     "exception": false,
     "start_time": "2023-10-25T07:04:49.107244",
     "status": "completed"
    },
    "tags": []
   },
   "outputs": [
    {
     "data": {
      "text/plain": [
       "(100836, 7)"
      ]
     },
     "execution_count": 12,
     "metadata": {},
     "output_type": "execute_result"
    }
   ],
   "source": [
    "merged.shape"
   ]
  },
  {
   "cell_type": "markdown",
   "id": "2cef976a",
   "metadata": {
    "papermill": {
     "duration": 0.016917,
     "end_time": "2023-10-25T07:04:49.170656",
     "exception": false,
     "start_time": "2023-10-25T07:04:49.153739",
     "status": "completed"
    },
    "tags": []
   },
   "source": [
    "**nunique gives the count of unique values(i.e. non repeated items)**"
   ]
  },
  {
   "cell_type": "code",
   "execution_count": 13,
   "id": "61175fef",
   "metadata": {
    "execution": {
     "iopub.execute_input": "2023-10-25T07:04:49.207417Z",
     "iopub.status.busy": "2023-10-25T07:04:49.206986Z",
     "iopub.status.idle": "2023-10-25T07:04:49.256134Z",
     "shell.execute_reply": "2023-10-25T07:04:49.254578Z"
    },
    "papermill": {
     "duration": 0.071134,
     "end_time": "2023-10-25T07:04:49.258928",
     "exception": false,
     "start_time": "2023-10-25T07:04:49.187794",
     "status": "completed"
    },
    "tags": []
   },
   "outputs": [
    {
     "data": {
      "text/plain": [
       "movieId       9724\n",
       "title         9719\n",
       "genres         951\n",
       "userId         610\n",
       "rating          10\n",
       "timestamp    85043\n",
       "datetime     85043\n",
       "dtype: int64"
      ]
     },
     "execution_count": 13,
     "metadata": {},
     "output_type": "execute_result"
    }
   ],
   "source": [
    "merged.nunique()"
   ]
  },
  {
   "cell_type": "code",
   "execution_count": 14,
   "id": "97da5e9a",
   "metadata": {
    "execution": {
     "iopub.execute_input": "2023-10-25T07:04:49.296484Z",
     "iopub.status.busy": "2023-10-25T07:04:49.295929Z",
     "iopub.status.idle": "2023-10-25T07:04:49.350157Z",
     "shell.execute_reply": "2023-10-25T07:04:49.348439Z"
    },
    "papermill": {
     "duration": 0.076352,
     "end_time": "2023-10-25T07:04:49.352996",
     "exception": false,
     "start_time": "2023-10-25T07:04:49.276644",
     "status": "completed"
    },
    "tags": []
   },
   "outputs": [
    {
     "data": {
      "text/html": [
       "<div>\n",
       "<style scoped>\n",
       "    .dataframe tbody tr th:only-of-type {\n",
       "        vertical-align: middle;\n",
       "    }\n",
       "\n",
       "    .dataframe tbody tr th {\n",
       "        vertical-align: top;\n",
       "    }\n",
       "\n",
       "    .dataframe thead th {\n",
       "        text-align: right;\n",
       "    }\n",
       "</style>\n",
       "<table border=\"1\" class=\"dataframe\">\n",
       "  <thead>\n",
       "    <tr style=\"text-align: right;\">\n",
       "      <th></th>\n",
       "      <th>movieId</th>\n",
       "      <th>userId</th>\n",
       "      <th>rating</th>\n",
       "      <th>timestamp</th>\n",
       "      <th>datetime</th>\n",
       "    </tr>\n",
       "  </thead>\n",
       "  <tbody>\n",
       "    <tr>\n",
       "      <th>count</th>\n",
       "      <td>100836.000000</td>\n",
       "      <td>100836.000000</td>\n",
       "      <td>100836.000000</td>\n",
       "      <td>1.008360e+05</td>\n",
       "      <td>100836</td>\n",
       "    </tr>\n",
       "    <tr>\n",
       "      <th>mean</th>\n",
       "      <td>19435.295718</td>\n",
       "      <td>326.127564</td>\n",
       "      <td>3.501557</td>\n",
       "      <td>1.205946e+09</td>\n",
       "      <td>1970-01-01 00:00:01.205946087</td>\n",
       "    </tr>\n",
       "    <tr>\n",
       "      <th>min</th>\n",
       "      <td>1.000000</td>\n",
       "      <td>1.000000</td>\n",
       "      <td>0.500000</td>\n",
       "      <td>8.281246e+08</td>\n",
       "      <td>1970-01-01 00:00:00.828124615</td>\n",
       "    </tr>\n",
       "    <tr>\n",
       "      <th>25%</th>\n",
       "      <td>1199.000000</td>\n",
       "      <td>177.000000</td>\n",
       "      <td>3.000000</td>\n",
       "      <td>1.019124e+09</td>\n",
       "      <td>1970-01-01 00:00:01.019123866</td>\n",
       "    </tr>\n",
       "    <tr>\n",
       "      <th>50%</th>\n",
       "      <td>2991.000000</td>\n",
       "      <td>325.000000</td>\n",
       "      <td>3.500000</td>\n",
       "      <td>1.186087e+09</td>\n",
       "      <td>1970-01-01 00:00:01.186086662</td>\n",
       "    </tr>\n",
       "    <tr>\n",
       "      <th>75%</th>\n",
       "      <td>8122.000000</td>\n",
       "      <td>477.000000</td>\n",
       "      <td>4.000000</td>\n",
       "      <td>1.435994e+09</td>\n",
       "      <td>1970-01-01 00:00:01.435994144</td>\n",
       "    </tr>\n",
       "    <tr>\n",
       "      <th>max</th>\n",
       "      <td>193609.000000</td>\n",
       "      <td>610.000000</td>\n",
       "      <td>5.000000</td>\n",
       "      <td>1.537799e+09</td>\n",
       "      <td>1970-01-01 00:00:01.537799250</td>\n",
       "    </tr>\n",
       "    <tr>\n",
       "      <th>std</th>\n",
       "      <td>35530.987199</td>\n",
       "      <td>182.618491</td>\n",
       "      <td>1.042529</td>\n",
       "      <td>2.162610e+08</td>\n",
       "      <td>NaN</td>\n",
       "    </tr>\n",
       "  </tbody>\n",
       "</table>\n",
       "</div>"
      ],
      "text/plain": [
       "             movieId         userId         rating     timestamp  \\\n",
       "count  100836.000000  100836.000000  100836.000000  1.008360e+05   \n",
       "mean    19435.295718     326.127564       3.501557  1.205946e+09   \n",
       "min         1.000000       1.000000       0.500000  8.281246e+08   \n",
       "25%      1199.000000     177.000000       3.000000  1.019124e+09   \n",
       "50%      2991.000000     325.000000       3.500000  1.186087e+09   \n",
       "75%      8122.000000     477.000000       4.000000  1.435994e+09   \n",
       "max    193609.000000     610.000000       5.000000  1.537799e+09   \n",
       "std     35530.987199     182.618491       1.042529  2.162610e+08   \n",
       "\n",
       "                            datetime  \n",
       "count                         100836  \n",
       "mean   1970-01-01 00:00:01.205946087  \n",
       "min    1970-01-01 00:00:00.828124615  \n",
       "25%    1970-01-01 00:00:01.019123866  \n",
       "50%    1970-01-01 00:00:01.186086662  \n",
       "75%    1970-01-01 00:00:01.435994144  \n",
       "max    1970-01-01 00:00:01.537799250  \n",
       "std                              NaN  "
      ]
     },
     "execution_count": 14,
     "metadata": {},
     "output_type": "execute_result"
    }
   ],
   "source": [
    "merged.describe()"
   ]
  },
  {
   "cell_type": "markdown",
   "id": "f060eaa2",
   "metadata": {
    "papermill": {
     "duration": 0.017389,
     "end_time": "2023-10-25T07:04:49.388989",
     "exception": false,
     "start_time": "2023-10-25T07:04:49.371600",
     "status": "completed"
    },
    "tags": []
   },
   "source": [
    "**Grouping data on specific basis.**\n"
   ]
  },
  {
   "cell_type": "markdown",
   "id": "0e25142e",
   "metadata": {
    "papermill": {
     "duration": 0.017282,
     "end_time": "2023-10-25T07:04:49.424136",
     "exception": false,
     "start_time": "2023-10-25T07:04:49.406854",
     "status": "completed"
    },
    "tags": []
   },
   "source": [
    "**Getting means of reviews **"
   ]
  },
  {
   "cell_type": "code",
   "execution_count": 15,
   "id": "2fd86226",
   "metadata": {
    "execution": {
     "iopub.execute_input": "2023-10-25T07:04:49.461542Z",
     "iopub.status.busy": "2023-10-25T07:04:49.461096Z",
     "iopub.status.idle": "2023-10-25T07:04:49.509203Z",
     "shell.execute_reply": "2023-10-25T07:04:49.507879Z"
    },
    "papermill": {
     "duration": 0.070741,
     "end_time": "2023-10-25T07:04:49.512612",
     "exception": false,
     "start_time": "2023-10-25T07:04:49.441871",
     "status": "completed"
    },
    "tags": []
   },
   "outputs": [
    {
     "data": {
      "text/plain": [
       "title\n",
       "'71 (2014)                                   4.000000\n",
       "'Hellboy': The Seeds of Creation (2004)      4.000000\n",
       "'Round Midnight (1986)                       3.500000\n",
       "'Salem's Lot (2004)                          5.000000\n",
       "'Til There Was You (1997)                    4.000000\n",
       "                                               ...   \n",
       "eXistenZ (1999)                              3.863636\n",
       "xXx (2002)                                   2.770833\n",
       "xXx: State of the Union (2005)               2.000000\n",
       "¡Three Amigos! (1986)                        3.134615\n",
       "À nous la liberté (Freedom for Us) (1931)    1.000000\n",
       "Name: rating, Length: 9719, dtype: float64"
      ]
     },
     "execution_count": 15,
     "metadata": {},
     "output_type": "execute_result"
    }
   ],
   "source": [
    "a=merged\n",
    "a=a.groupby(\"title\")[\"rating\"].mean()\n",
    "a"
   ]
  },
  {
   "cell_type": "code",
   "execution_count": 16,
   "id": "a36bf1a3",
   "metadata": {
    "execution": {
     "iopub.execute_input": "2023-10-25T07:04:49.550727Z",
     "iopub.status.busy": "2023-10-25T07:04:49.550298Z",
     "iopub.status.idle": "2023-10-25T07:04:49.563414Z",
     "shell.execute_reply": "2023-10-25T07:04:49.562207Z"
    },
    "papermill": {
     "duration": 0.035285,
     "end_time": "2023-10-25T07:04:49.565900",
     "exception": false,
     "start_time": "2023-10-25T07:04:49.530615",
     "status": "completed"
    },
    "tags": []
   },
   "outputs": [
    {
     "data": {
      "text/plain": [
       "title\n",
       "Gena the Crocodile (1969)                  5.0\n",
       "True Stories (1986)                        5.0\n",
       "Cosmic Scrat-tastrophe (2015)              5.0\n",
       "Love and Pigeons (1985)                    5.0\n",
       "Red Sorghum (Hong gao liang) (1987)        5.0\n",
       "                                          ... \n",
       "Don't Look Now (1973)                      0.5\n",
       "Journey 2: The Mysterious Island (2012)    0.5\n",
       "Joe Dirt 2: Beautiful Loser (2015)         0.5\n",
       "Jesus Christ Vampire Hunter (2001)         0.5\n",
       "Fullmetal Alchemist 2018 (2017)            0.5\n",
       "Name: rating, Length: 9719, dtype: float64"
      ]
     },
     "execution_count": 16,
     "metadata": {},
     "output_type": "execute_result"
    }
   ],
   "source": [
    "sorted = a.sort_values(ascending=False)\n",
    "sorted"
   ]
  },
  {
   "cell_type": "markdown",
   "id": "d5292312",
   "metadata": {
    "papermill": {
     "duration": 0.017789,
     "end_time": "2023-10-25T07:04:49.601713",
     "exception": false,
     "start_time": "2023-10-25T07:04:49.583924",
     "status": "completed"
    },
    "tags": []
   },
   "source": [
    "**Getting counts of reviews**"
   ]
  },
  {
   "cell_type": "code",
   "execution_count": 17,
   "id": "fe2824fc",
   "metadata": {
    "execution": {
     "iopub.execute_input": "2023-10-25T07:04:49.640048Z",
     "iopub.status.busy": "2023-10-25T07:04:49.639623Z",
     "iopub.status.idle": "2023-10-25T07:04:49.679742Z",
     "shell.execute_reply": "2023-10-25T07:04:49.678146Z"
    },
    "papermill": {
     "duration": 0.062824,
     "end_time": "2023-10-25T07:04:49.682628",
     "exception": false,
     "start_time": "2023-10-25T07:04:49.619804",
     "status": "completed"
    },
    "tags": []
   },
   "outputs": [
    {
     "data": {
      "text/plain": [
       "title\n",
       "'71 (2014)                                 1\n",
       "'Hellboy': The Seeds of Creation (2004)    1\n",
       "'Round Midnight (1986)                     2\n",
       "'Salem's Lot (2004)                        1\n",
       "'Til There Was You (1997)                  2\n",
       "Name: rating, dtype: int64"
      ]
     },
     "execution_count": 17,
     "metadata": {},
     "output_type": "execute_result"
    }
   ],
   "source": [
    "b=merged.groupby(\"title\")[\"rating\"].count()\n",
    "b.head()"
   ]
  },
  {
   "cell_type": "markdown",
   "id": "9ef66314",
   "metadata": {
    "papermill": {
     "duration": 0.018025,
     "end_time": "2023-10-25T07:04:49.719770",
     "exception": false,
     "start_time": "2023-10-25T07:04:49.701745",
     "status": "completed"
    },
    "tags": []
   },
   "source": [
    "**Creating a new dataframe**"
   ]
  },
  {
   "cell_type": "code",
   "execution_count": 18,
   "id": "e20c11b9",
   "metadata": {
    "execution": {
     "iopub.execute_input": "2023-10-25T07:04:49.758468Z",
     "iopub.status.busy": "2023-10-25T07:04:49.757968Z",
     "iopub.status.idle": "2023-10-25T07:04:49.781496Z",
     "shell.execute_reply": "2023-10-25T07:04:49.780238Z"
    },
    "papermill": {
     "duration": 0.045853,
     "end_time": "2023-10-25T07:04:49.783860",
     "exception": false,
     "start_time": "2023-10-25T07:04:49.738007",
     "status": "completed"
    },
    "tags": []
   },
   "outputs": [
    {
     "data": {
      "text/html": [
       "<div>\n",
       "<style scoped>\n",
       "    .dataframe tbody tr th:only-of-type {\n",
       "        vertical-align: middle;\n",
       "    }\n",
       "\n",
       "    .dataframe tbody tr th {\n",
       "        vertical-align: top;\n",
       "    }\n",
       "\n",
       "    .dataframe thead th {\n",
       "        text-align: right;\n",
       "    }\n",
       "</style>\n",
       "<table border=\"1\" class=\"dataframe\">\n",
       "  <thead>\n",
       "    <tr style=\"text-align: right;\">\n",
       "      <th></th>\n",
       "      <th>average ratings</th>\n",
       "      <th>review counts</th>\n",
       "    </tr>\n",
       "    <tr>\n",
       "      <th>title</th>\n",
       "      <th></th>\n",
       "      <th></th>\n",
       "    </tr>\n",
       "  </thead>\n",
       "  <tbody>\n",
       "    <tr>\n",
       "      <th>'71 (2014)</th>\n",
       "      <td>4.000000</td>\n",
       "      <td>1</td>\n",
       "    </tr>\n",
       "    <tr>\n",
       "      <th>'Hellboy': The Seeds of Creation (2004)</th>\n",
       "      <td>4.000000</td>\n",
       "      <td>1</td>\n",
       "    </tr>\n",
       "    <tr>\n",
       "      <th>'Round Midnight (1986)</th>\n",
       "      <td>3.500000</td>\n",
       "      <td>2</td>\n",
       "    </tr>\n",
       "    <tr>\n",
       "      <th>'Salem's Lot (2004)</th>\n",
       "      <td>5.000000</td>\n",
       "      <td>1</td>\n",
       "    </tr>\n",
       "    <tr>\n",
       "      <th>'Til There Was You (1997)</th>\n",
       "      <td>4.000000</td>\n",
       "      <td>2</td>\n",
       "    </tr>\n",
       "    <tr>\n",
       "      <th>...</th>\n",
       "      <td>...</td>\n",
       "      <td>...</td>\n",
       "    </tr>\n",
       "    <tr>\n",
       "      <th>eXistenZ (1999)</th>\n",
       "      <td>3.863636</td>\n",
       "      <td>22</td>\n",
       "    </tr>\n",
       "    <tr>\n",
       "      <th>xXx (2002)</th>\n",
       "      <td>2.770833</td>\n",
       "      <td>24</td>\n",
       "    </tr>\n",
       "    <tr>\n",
       "      <th>xXx: State of the Union (2005)</th>\n",
       "      <td>2.000000</td>\n",
       "      <td>5</td>\n",
       "    </tr>\n",
       "    <tr>\n",
       "      <th>¡Three Amigos! (1986)</th>\n",
       "      <td>3.134615</td>\n",
       "      <td>26</td>\n",
       "    </tr>\n",
       "    <tr>\n",
       "      <th>À nous la liberté (Freedom for Us) (1931)</th>\n",
       "      <td>1.000000</td>\n",
       "      <td>1</td>\n",
       "    </tr>\n",
       "  </tbody>\n",
       "</table>\n",
       "<p>9719 rows × 2 columns</p>\n",
       "</div>"
      ],
      "text/plain": [
       "                                           average ratings  review counts\n",
       "title                                                                    \n",
       "'71 (2014)                                        4.000000              1\n",
       "'Hellboy': The Seeds of Creation (2004)           4.000000              1\n",
       "'Round Midnight (1986)                            3.500000              2\n",
       "'Salem's Lot (2004)                               5.000000              1\n",
       "'Til There Was You (1997)                         4.000000              2\n",
       "...                                                    ...            ...\n",
       "eXistenZ (1999)                                   3.863636             22\n",
       "xXx (2002)                                        2.770833             24\n",
       "xXx: State of the Union (2005)                    2.000000              5\n",
       "¡Three Amigos! (1986)                             3.134615             26\n",
       "À nous la liberté (Freedom for Us) (1931)         1.000000              1\n",
       "\n",
       "[9719 rows x 2 columns]"
      ]
     },
     "execution_count": 18,
     "metadata": {},
     "output_type": "execute_result"
    }
   ],
   "source": [
    "dataset = pd.DataFrame()\n",
    "dataset[\"average ratings\"]= a\n",
    "dataset[\"review counts\"]=b\n",
    "dataset"
   ]
  },
  {
   "cell_type": "markdown",
   "id": "d8f61b39",
   "metadata": {
    "papermill": {
     "duration": 0.018092,
     "end_time": "2023-10-25T07:04:49.820564",
     "exception": false,
     "start_time": "2023-10-25T07:04:49.802472",
     "status": "completed"
    },
    "tags": []
   },
   "source": [
    "**Data visualization**"
   ]
  },
  {
   "cell_type": "code",
   "execution_count": 19,
   "id": "cbb8a36a",
   "metadata": {
    "execution": {
     "iopub.execute_input": "2023-10-25T07:04:49.861132Z",
     "iopub.status.busy": "2023-10-25T07:04:49.860685Z",
     "iopub.status.idle": "2023-10-25T07:04:51.704133Z",
     "shell.execute_reply": "2023-10-25T07:04:51.703030Z"
    },
    "papermill": {
     "duration": 1.866767,
     "end_time": "2023-10-25T07:04:51.707329",
     "exception": false,
     "start_time": "2023-10-25T07:04:49.840562",
     "status": "completed"
    },
    "tags": []
   },
   "outputs": [],
   "source": [
    "import matplotlib.pyplot as plt\n",
    "import seaborn as sns\n",
    "sns.set_style('white')\n",
    "%matplotlib inline"
   ]
  },
  {
   "cell_type": "markdown",
   "id": "8bbdac9d",
   "metadata": {
    "papermill": {
     "duration": 0.019275,
     "end_time": "2023-10-25T07:04:51.744926",
     "exception": false,
     "start_time": "2023-10-25T07:04:51.725651",
     "status": "completed"
    },
    "tags": []
   },
   "source": [
    "**Shows what the are columns **"
   ]
  },
  {
   "cell_type": "code",
   "execution_count": 20,
   "id": "19aa0534",
   "metadata": {
    "execution": {
     "iopub.execute_input": "2023-10-25T07:04:51.784136Z",
     "iopub.status.busy": "2023-10-25T07:04:51.783644Z",
     "iopub.status.idle": "2023-10-25T07:04:51.793540Z",
     "shell.execute_reply": "2023-10-25T07:04:51.791795Z"
    },
    "papermill": {
     "duration": 0.032709,
     "end_time": "2023-10-25T07:04:51.796437",
     "exception": false,
     "start_time": "2023-10-25T07:04:51.763728",
     "status": "completed"
    },
    "tags": []
   },
   "outputs": [
    {
     "data": {
      "text/plain": [
       "Index(['average ratings', 'review counts'], dtype='object')"
      ]
     },
     "execution_count": 20,
     "metadata": {},
     "output_type": "execute_result"
    }
   ],
   "source": [
    "dataset.columns"
   ]
  },
  {
   "cell_type": "markdown",
   "id": "74ab7f15",
   "metadata": {
    "papermill": {
     "duration": 0.019214,
     "end_time": "2023-10-25T07:04:51.834667",
     "exception": false,
     "start_time": "2023-10-25T07:04:51.815453",
     "status": "completed"
    },
    "tags": []
   },
   "source": [
    "**Histogram**"
   ]
  },
  {
   "cell_type": "code",
   "execution_count": 21,
   "id": "eb9f3c47",
   "metadata": {
    "execution": {
     "iopub.execute_input": "2023-10-25T07:04:51.874980Z",
     "iopub.status.busy": "2023-10-25T07:04:51.874002Z",
     "iopub.status.idle": "2023-10-25T07:04:52.447859Z",
     "shell.execute_reply": "2023-10-25T07:04:52.446419Z"
    },
    "papermill": {
     "duration": 0.597424,
     "end_time": "2023-10-25T07:04:52.450938",
     "exception": false,
     "start_time": "2023-10-25T07:04:51.853514",
     "status": "completed"
    },
    "tags": []
   },
   "outputs": [
    {
     "data": {
      "image/png": "[encoded data removed]",
      "text/plain": [
       "<Figure size 800x1000 with 1 Axes>"
      ]
     },
     "metadata": {},
     "output_type": "display_data"
    }
   ],
   "source": [
    "plt.figure(figsize=(8,10))\n",
    "plt.hist(dataset['review counts'],bins=100)\n",
    "plt.show()"
   ]
  },
  {
   "cell_type": "code",
   "execution_count": 22,
   "id": "a045f947",
   "metadata": {
    "execution": {
     "iopub.execute_input": "2023-10-25T07:04:52.491830Z",
     "iopub.status.busy": "2023-10-25T07:04:52.491325Z",
     "iopub.status.idle": "2023-10-25T07:04:53.065242Z",
     "shell.execute_reply": "2023-10-25T07:04:53.063430Z"
    },
    "papermill": {
     "duration": 0.598012,
     "end_time": "2023-10-25T07:04:53.068309",
     "exception": false,
     "start_time": "2023-10-25T07:04:52.470297",
     "status": "completed"
    },
    "tags": []
   },
   "outputs": [
    {
     "data": {
      "image/png": "[encoded data removed]",
      "text/plain": [
       "<Figure size 800x1000 with 1 Axes>"
      ]
     },
     "metadata": {},
     "output_type": "display_data"
    }
   ],
   "source": [
    "plt.figure(figsize=(8,10))\n",
    "dataset['review counts'].hist(bins=100)\n",
    "plt.show()"
   ]
  },
  {
   "cell_type": "code",
   "execution_count": 23,
   "id": "6167f95b",
   "metadata": {
    "execution": {
     "iopub.execute_input": "2023-10-25T07:04:53.111008Z",
     "iopub.status.busy": "2023-10-25T07:04:53.110573Z",
     "iopub.status.idle": "2023-10-25T07:04:53.545220Z",
     "shell.execute_reply": "2023-10-25T07:04:53.543685Z"
    },
    "papermill": {
     "duration": 0.460143,
     "end_time": "2023-10-25T07:04:53.548371",
     "exception": false,
     "start_time": "2023-10-25T07:04:53.088228",
     "status": "completed"
    },
    "tags": []
   },
   "outputs": [
    {
     "data": {
      "image/png": "[encoded data removed]",
      "text/plain": [
       "<Figure size 640x480 with 1 Axes>"
      ]
     },
     "metadata": {},
     "output_type": "display_data"
    }
   ],
   "source": [
    "dataset['average ratings'].hist(bins=70)\n",
    "plt.show()"
   ]
  },
  {
   "cell_type": "markdown",
   "id": "35df67b1",
   "metadata": {
    "papermill": {
     "duration": 0.020797,
     "end_time": "2023-10-25T07:04:53.590392",
     "exception": false,
     "start_time": "2023-10-25T07:04:53.569595",
     "status": "completed"
    },
    "tags": []
   },
   "source": [
    "**Joint plot of both rating and review count **"
   ]
  },
  {
   "cell_type": "code",
   "execution_count": 24,
   "id": "a3b92617",
   "metadata": {
    "execution": {
     "iopub.execute_input": "2023-10-25T07:04:53.635239Z",
     "iopub.status.busy": "2023-10-25T07:04:53.634759Z",
     "iopub.status.idle": "2023-10-25T07:04:55.740491Z",
     "shell.execute_reply": "2023-10-25T07:04:55.739333Z"
    },
    "papermill": {
     "duration": 2.13203,
     "end_time": "2023-10-25T07:04:55.743517",
     "exception": false,
     "start_time": "2023-10-25T07:04:53.611487",
     "status": "completed"
    },
    "tags": []
   },
   "outputs": [
    {
     "data": {
      "text/plain": [
       "<seaborn.axisgrid.JointGrid at 0x7d57e6886470>"
      ]
     },
     "execution_count": 24,
     "metadata": {},
     "output_type": "execute_result"
    },
    {
     "data": {
      "image/png": "[encoded data removed]",
      "text/plain": [
       "<Figure size 600x600 with 3 Axes>"
      ]
     },
     "metadata": {},
     "output_type": "display_data"
    }
   ],
   "source": [
    "sns.jointplot(x=\"average ratings\" , y=\"review counts\" , data=dataset , alpha=0.8)"
   ]
  },
  {
   "cell_type": "markdown",
   "id": "7a9a8b07",
   "metadata": {
    "papermill": {
     "duration": 0.022678,
     "end_time": "2023-10-25T07:04:55.789325",
     "exception": false,
     "start_time": "2023-10-25T07:04:55.766647",
     "status": "completed"
    },
    "tags": []
   },
   "source": [
    "**Creating a matrix of these dataset .**"
   ]
  },
  {
   "cell_type": "code",
   "execution_count": 25,
   "id": "a5f22951",
   "metadata": {
    "execution": {
     "iopub.execute_input": "2023-10-25T07:04:55.839437Z",
     "iopub.status.busy": "2023-10-25T07:04:55.838595Z",
     "iopub.status.idle": "2023-10-25T07:04:56.147891Z",
     "shell.execute_reply": "2023-10-25T07:04:56.146565Z"
    },
    "papermill": {
     "duration": 0.33775,
     "end_time": "2023-10-25T07:04:56.151175",
     "exception": false,
     "start_time": "2023-10-25T07:04:55.813425",
     "status": "completed"
    },
    "tags": []
   },
   "outputs": [
    {
     "data": {
      "text/plain": [
       "Index([''71 (2014)', ''Hellboy': The Seeds of Creation (2004)',\n",
       "       ''Round Midnight (1986)', ''Salem's Lot (2004)',\n",
       "       ''Til There Was You (1997)', ''Tis the Season for Love (2015)',\n",
       "       ''burbs, The (1989)', ''night Mother (1986)',\n",
       "       '(500) Days of Summer (2009)', '*batteries not included (1987)',\n",
       "       ...\n",
       "       'Zulu (2013)', '[REC] (2007)', '[REC]² (2009)',\n",
       "       '[REC]³ 3 Génesis (2012)',\n",
       "       'anohana: The Flower We Saw That Day - The Movie (2013)',\n",
       "       'eXistenZ (1999)', 'xXx (2002)', 'xXx: State of the Union (2005)',\n",
       "       '¡Three Amigos! (1986)', 'À nous la liberté (Freedom for Us) (1931)'],\n",
       "      dtype='object', name='title', length=9719)"
      ]
     },
     "execution_count": 25,
     "metadata": {},
     "output_type": "execute_result"
    }
   ],
   "source": [
    "movie_matrix = merged.pivot_table(index=\"userId\",columns=\"title\",values=\"rating\")\n",
    "movie_matrix.head()\n",
    "movie_matrix.columns"
   ]
  },
  {
   "cell_type": "code",
   "execution_count": 26,
   "id": "b8874180",
   "metadata": {
    "execution": {
     "iopub.execute_input": "2023-10-25T07:04:56.198991Z",
     "iopub.status.busy": "2023-10-25T07:04:56.198514Z",
     "iopub.status.idle": "2023-10-25T07:04:56.206972Z",
     "shell.execute_reply": "2023-10-25T07:04:56.205932Z"
    },
    "papermill": {
     "duration": 0.036627,
     "end_time": "2023-10-25T07:04:56.209841",
     "exception": false,
     "start_time": "2023-10-25T07:04:56.173214",
     "status": "completed"
    },
    "tags": []
   },
   "outputs": [],
   "source": [
    "x2 = movie_matrix['xXx (2002)']"
   ]
  },
  {
   "cell_type": "code",
   "execution_count": 27,
   "id": "8aed277b",
   "metadata": {
    "execution": {
     "iopub.execute_input": "2023-10-25T07:04:56.258691Z",
     "iopub.status.busy": "2023-10-25T07:04:56.258168Z",
     "iopub.status.idle": "2023-10-25T07:04:56.268495Z",
     "shell.execute_reply": "2023-10-25T07:04:56.267208Z"
    },
    "papermill": {
     "duration": 0.038897,
     "end_time": "2023-10-25T07:04:56.271713",
     "exception": false,
     "start_time": "2023-10-25T07:04:56.232816",
     "status": "completed"
    },
    "tags": []
   },
   "outputs": [
    {
     "data": {
      "text/plain": [
       "userId\n",
       "606    NaN\n",
       "607    NaN\n",
       "608    3.5\n",
       "609    NaN\n",
       "610    2.0\n",
       "Name: xXx (2002), dtype: float64"
      ]
     },
     "execution_count": 27,
     "metadata": {},
     "output_type": "execute_result"
    }
   ],
   "source": [
    "x2.tail()"
   ]
  },
  {
   "cell_type": "markdown",
   "id": "df58f205",
   "metadata": {
    "papermill": {
     "duration": 0.023826,
     "end_time": "2023-10-25T07:04:56.318573",
     "exception": false,
     "start_time": "2023-10-25T07:04:56.294747",
     "status": "completed"
    },
    "tags": []
   },
   "source": [
    "**Similar movies to xXx2 by calculating the correlation **"
   ]
  },
  {
   "cell_type": "code",
   "execution_count": 28,
   "id": "eb5f89f3",
   "metadata": {
    "execution": {
     "iopub.execute_input": "2023-10-25T07:04:56.365219Z",
     "iopub.status.busy": "2023-10-25T07:04:56.364799Z",
     "iopub.status.idle": "2023-10-25T07:04:58.439174Z",
     "shell.execute_reply": "2023-10-25T07:04:58.437637Z"
    },
    "papermill": {
     "duration": 2.101562,
     "end_time": "2023-10-25T07:04:58.442020",
     "exception": false,
     "start_time": "2023-10-25T07:04:56.340458",
     "status": "completed"
    },
    "tags": []
   },
   "outputs": [
    {
     "name": "stderr",
     "output_type": "stream",
     "text": [
      "/opt/conda/lib/python3.10/site-packages/numpy/lib/function_base.py:2845: RuntimeWarning: Degrees of freedom <= 0 for slice\n",
      "  c = cov(x, y, rowvar, dtype=dtype)\n",
      "/opt/conda/lib/python3.10/site-packages/numpy/lib/function_base.py:2704: RuntimeWarning: divide by zero encountered in divide\n",
      "  c *= np.true_divide(1, fact)\n"
     ]
    },
    {
     "data": {
      "text/plain": [
       "title\n",
       "'71 (2014)                                        NaN\n",
       "'Hellboy': The Seeds of Creation (2004)           NaN\n",
       "'Round Midnight (1986)                            NaN\n",
       "'Salem's Lot (2004)                               NaN\n",
       "'Til There Was You (1997)                         NaN\n",
       "                                               ...   \n",
       "eXistenZ (1999)                              0.762493\n",
       "xXx (2002)                                   1.000000\n",
       "xXx: State of the Union (2005)               0.943880\n",
       "¡Three Amigos! (1986)                        0.500000\n",
       "À nous la liberté (Freedom for Us) (1931)         NaN\n",
       "Length: 9719, dtype: float64"
      ]
     },
     "execution_count": 28,
     "metadata": {},
     "output_type": "execute_result"
    }
   ],
   "source": [
    "simi_x2 = movie_matrix.corrwith(x2)\n",
    "simi_x2"
   ]
  },
  {
   "cell_type": "code",
   "execution_count": 29,
   "id": "5296c4d5",
   "metadata": {
    "execution": {
     "iopub.execute_input": "2023-10-25T07:04:58.492428Z",
     "iopub.status.busy": "2023-10-25T07:04:58.491584Z",
     "iopub.status.idle": "2023-10-25T07:04:58.497083Z",
     "shell.execute_reply": "2023-10-25T07:04:58.495790Z"
    },
    "papermill": {
     "duration": 0.034537,
     "end_time": "2023-10-25T07:04:58.499722",
     "exception": false,
     "start_time": "2023-10-25T07:04:58.465185",
     "status": "completed"
    },
    "tags": []
   },
   "outputs": [],
   "source": [
    "#data= pd.get_dummies(merged)"
   ]
  },
  {
   "cell_type": "code",
   "execution_count": 30,
   "id": "1db1442e",
   "metadata": {
    "execution": {
     "iopub.execute_input": "2023-10-25T07:04:58.550310Z",
     "iopub.status.busy": "2023-10-25T07:04:58.549869Z",
     "iopub.status.idle": "2023-10-25T07:04:58.557929Z",
     "shell.execute_reply": "2023-10-25T07:04:58.556424Z"
    },
    "papermill": {
     "duration": 0.037322,
     "end_time": "2023-10-25T07:04:58.560846",
     "exception": false,
     "start_time": "2023-10-25T07:04:58.523524",
     "status": "completed"
    },
    "tags": []
   },
   "outputs": [
    {
     "name": "stdout",
     "output_type": "stream",
     "text": [
      "movieId               int64\n",
      "title                object\n",
      "genres               object\n",
      "userId                int64\n",
      "rating              float64\n",
      "timestamp             int64\n",
      "datetime     datetime64[ns]\n",
      "dtype: object\n"
     ]
    }
   ],
   "source": [
    "print(merged.dtypes)"
   ]
  },
  {
   "cell_type": "markdown",
   "id": "6badefe8",
   "metadata": {
    "papermill": {
     "duration": 0.02205,
     "end_time": "2023-10-25T07:04:58.605135",
     "exception": false,
     "start_time": "2023-10-25T07:04:58.583085",
     "status": "completed"
    },
    "tags": []
   },
   "source": [
    "**Droping the non-numeric datas**"
   ]
  },
  {
   "cell_type": "code",
   "execution_count": 31,
   "id": "fa445a81",
   "metadata": {
    "execution": {
     "iopub.execute_input": "2023-10-25T07:04:58.651759Z",
     "iopub.status.busy": "2023-10-25T07:04:58.651313Z",
     "iopub.status.idle": "2023-10-25T07:04:58.659524Z",
     "shell.execute_reply": "2023-10-25T07:04:58.657946Z"
    },
    "papermill": {
     "duration": 0.03458,
     "end_time": "2023-10-25T07:04:58.661886",
     "exception": false,
     "start_time": "2023-10-25T07:04:58.627306",
     "status": "completed"
    },
    "tags": []
   },
   "outputs": [],
   "source": [
    "data= merged.drop(columns = ['title','genres','datetime'])"
   ]
  },
  {
   "cell_type": "markdown",
   "id": "a2ff20d6",
   "metadata": {
    "papermill": {
     "duration": 0.021712,
     "end_time": "2023-10-25T07:04:58.705711",
     "exception": false,
     "start_time": "2023-10-25T07:04:58.683999",
     "status": "completed"
    },
    "tags": []
   },
   "source": [
    "**Coorelation visualization**"
   ]
  },
  {
   "cell_type": "code",
   "execution_count": 32,
   "id": "32985560",
   "metadata": {
    "execution": {
     "iopub.execute_input": "2023-10-25T07:04:58.752462Z",
     "iopub.status.busy": "2023-10-25T07:04:58.751990Z",
     "iopub.status.idle": "2023-10-25T07:04:59.264714Z",
     "shell.execute_reply": "2023-10-25T07:04:59.262707Z"
    },
    "papermill": {
     "duration": 0.539973,
     "end_time": "2023-10-25T07:04:59.267875",
     "exception": false,
     "start_time": "2023-10-25T07:04:58.727902",
     "status": "completed"
    },
    "tags": []
   },
   "outputs": [
    {
     "data": {
      "image/png": "[encoded data removed]",
      "text/plain": [
       "<Figure size 1400x1600 with 2 Axes>"
      ]
     },
     "metadata": {},
     "output_type": "display_data"
    }
   ],
   "source": [
    "import matplotlib.pyplot as plt\n",
    "cor = data.corr()\n",
    "fig= plt.figure(figsize=(14,16))\n",
    "sns.heatmap(cor , annot = True , vmax=.9 , square = True)\n",
    "plt.show()"
   ]
  },
  {
   "cell_type": "markdown",
   "id": "fbc0680a",
   "metadata": {
    "papermill": {
     "duration": 0.022653,
     "end_time": "2023-10-25T07:04:59.313749",
     "exception": false,
     "start_time": "2023-10-25T07:04:59.291096",
     "status": "completed"
    },
    "tags": []
   },
   "source": [
    "**The movies with more correlation will be recommended and so on , this shows the correlation of other movies with xXx2 (inplace = true, removes the null values)**"
   ]
  },
  {
   "cell_type": "code",
   "execution_count": 33,
   "id": "4323cbdb",
   "metadata": {
    "execution": {
     "iopub.execute_input": "2023-10-25T07:04:59.362271Z",
     "iopub.status.busy": "2023-10-25T07:04:59.361849Z",
     "iopub.status.idle": "2023-10-25T07:04:59.377700Z",
     "shell.execute_reply": "2023-10-25T07:04:59.376120Z"
    },
    "papermill": {
     "duration": 0.043448,
     "end_time": "2023-10-25T07:04:59.380281",
     "exception": false,
     "start_time": "2023-10-25T07:04:59.336833",
     "status": "completed"
    },
    "tags": []
   },
   "outputs": [
    {
     "data": {
      "text/html": [
       "<div>\n",
       "<style scoped>\n",
       "    .dataframe tbody tr th:only-of-type {\n",
       "        vertical-align: middle;\n",
       "    }\n",
       "\n",
       "    .dataframe tbody tr th {\n",
       "        vertical-align: top;\n",
       "    }\n",
       "\n",
       "    .dataframe thead th {\n",
       "        text-align: right;\n",
       "    }\n",
       "</style>\n",
       "<table border=\"1\" class=\"dataframe\">\n",
       "  <thead>\n",
       "    <tr style=\"text-align: right;\">\n",
       "      <th></th>\n",
       "      <th>Correlation</th>\n",
       "    </tr>\n",
       "    <tr>\n",
       "      <th>title</th>\n",
       "      <th></th>\n",
       "    </tr>\n",
       "  </thead>\n",
       "  <tbody>\n",
       "    <tr>\n",
       "      <th>(500) Days of Summer (2009)</th>\n",
       "      <td>0.831858</td>\n",
       "    </tr>\n",
       "    <tr>\n",
       "      <th>10 Cloverfield Lane (2016)</th>\n",
       "      <td>0.802955</td>\n",
       "    </tr>\n",
       "    <tr>\n",
       "      <th>10 Items or Less (2006)</th>\n",
       "      <td>1.000000</td>\n",
       "    </tr>\n",
       "    <tr>\n",
       "      <th>10 Things I Hate About You (1999)</th>\n",
       "      <td>0.540062</td>\n",
       "    </tr>\n",
       "    <tr>\n",
       "      <th>10,000 BC (2008)</th>\n",
       "      <td>0.177325</td>\n",
       "    </tr>\n",
       "  </tbody>\n",
       "</table>\n",
       "</div>"
      ],
      "text/plain": [
       "                                   Correlation\n",
       "title                                         \n",
       "(500) Days of Summer (2009)           0.831858\n",
       "10 Cloverfield Lane (2016)            0.802955\n",
       "10 Items or Less (2006)               1.000000\n",
       "10 Things I Hate About You (1999)     0.540062\n",
       "10,000 BC (2008)                      0.177325"
      ]
     },
     "execution_count": 33,
     "metadata": {},
     "output_type": "execute_result"
    }
   ],
   "source": [
    "x2_corr = pd.DataFrame (simi_x2, columns = ['Correlation'])\n",
    "x2_corr.dropna(inplace = True)\n",
    "x2_corr.head()"
   ]
  },
  {
   "cell_type": "code",
   "execution_count": null,
   "id": "0cec8e34",
   "metadata": {
    "papermill": {
     "duration": 0.023465,
     "end_time": "2023-10-25T07:04:59.427172",
     "exception": false,
     "start_time": "2023-10-25T07:04:59.403707",
     "status": "completed"
    },
    "tags": []
   },
   "outputs": [],
   "source": []
  }
 ],
 "metadata": {
  "kernelspec": {
   "display_name": "Python 3",
   "language": "python",
   "name": "python3"
  },
  "language_info": {
   "codemirror_mode": {
    "name": "ipython",
    "version": 3
   },
   "file_extension": ".py",
   "mimetype": "text/x-python",
   "name": "python",
   "nbconvert_exporter": "python",
   "pygments_lexer": "ipython3",
   "version": "3.10.12"
  },
  "papermill": {
   "default_parameters": {},
   "duration": 18.887086,
   "end_time": "2023-10-25T07:05:00.576767",
   "environment_variables": {},
   "exception": null,
   "input_path": "__notebook__.ipynb",
   "output_path": "__notebook__.ipynb",
   "parameters": {},
   "start_time": "2023-10-25T07:04:41.689681",
   "version": "2.4.0"
  }
 },
 "nbformat": 4,
 "nbformat_minor": 5
}
